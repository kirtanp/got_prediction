{
 "cells": [
  {
   "cell_type": "code",
   "execution_count": 1,
   "metadata": {},
   "outputs": [],
   "source": [
    "import pandas as pd\n",
    "import numpy as np\n",
    "import math\n",
    "import seaborn as sns\n",
    "import matplotlib.pyplot as plt\n",
    "%matplotlib inline\n",
    "\n",
    "from sksurv.preprocessing import OneHotEncoder\n",
    "from sksurv.linear_model import CoxPHSurvivalAnalysis\n",
    "from sksurv.metrics import concordance_index_censored\n",
    "from sklearn.model_selection import train_test_split\n",
    "from sklearn.model_selection import cross_val_score\n",
    "from sklearn.feature_selection import SelectKBest\n",
    "from sklearn.pipeline import Pipeline\n",
    "from sklearn.model_selection import GridSearchCV\n",
    "from sklearn.linear_model import LogisticRegression"
   ]
  },
  {
   "cell_type": "code",
   "execution_count": 2,
   "metadata": {},
   "outputs": [],
   "source": [
    "df_sct = pd.read_json('data/GoT-screentimes.json')\n",
    "df_deaths = pd.read_csv('data/character-predictions.csv')"
   ]
  },
  {
   "cell_type": "markdown",
   "metadata": {},
   "source": [
    "# Data exploration \n",
    "**Data sources** \n",
    "* 'deaths' dataset from https://www.kaggle.com/mylesoneill/game-of-thrones\n",
    "* 'screentime' dataset from https://data.world/aendrew/game-of-thrones-screen-times\n",
    "\n",
    "Taking a first look at the dataset "
   ]
  },
  {
   "cell_type": "code",
   "execution_count": 3,
   "metadata": {},
   "outputs": [],
   "source": [
    "def basic_info(df):\n",
    "    print(\"Column list: {}\".format(df.columns))\n",
    "    print(\"Shape: {}\".format(df.shape))\n",
    "    return(df.head())"
   ]
  },
  {
   "cell_type": "code",
   "execution_count": 4,
   "metadata": {},
   "outputs": [
    {
     "name": "stdout",
     "output_type": "stream",
     "text": [
      "Column list: Index(['name', 'imdbUrl', 'screentime', 'episodes', 'portrayedBy'], dtype='object')\n",
      "Shape: (191, 5)\n"
     ]
    },
    {
     "data": {
      "text/html": [
       "<div>\n",
       "<style scoped>\n",
       "    .dataframe tbody tr th:only-of-type {\n",
       "        vertical-align: middle;\n",
       "    }\n",
       "\n",
       "    .dataframe tbody tr th {\n",
       "        vertical-align: top;\n",
       "    }\n",
       "\n",
       "    .dataframe thead th {\n",
       "        text-align: right;\n",
       "    }\n",
       "</style>\n",
       "<table border=\"1\" class=\"dataframe\">\n",
       "  <thead>\n",
       "    <tr style=\"text-align: right;\">\n",
       "      <th></th>\n",
       "      <th>name</th>\n",
       "      <th>imdbUrl</th>\n",
       "      <th>screentime</th>\n",
       "      <th>episodes</th>\n",
       "      <th>portrayedBy</th>\n",
       "    </tr>\n",
       "  </thead>\n",
       "  <tbody>\n",
       "    <tr>\n",
       "      <th>0</th>\n",
       "      <td>Tyrion Lannister</td>\n",
       "      <td>http://www.imdb.com/character/ch0146096/</td>\n",
       "      <td>293.30</td>\n",
       "      <td>54</td>\n",
       "      <td>{'name': 'Peter Dinklage', 'imdbUrl': 'http://...</td>\n",
       "    </tr>\n",
       "    <tr>\n",
       "      <th>1</th>\n",
       "      <td>Jon Snow</td>\n",
       "      <td>http://www.imdb.com/character/ch0155777/</td>\n",
       "      <td>268.15</td>\n",
       "      <td>49</td>\n",
       "      <td>{'name': 'Kit Harington', 'imdbUrl': 'http://w...</td>\n",
       "    </tr>\n",
       "    <tr>\n",
       "      <th>2</th>\n",
       "      <td>Daenerys Targaryen</td>\n",
       "      <td>http://www.imdb.com/character/ch0158597/</td>\n",
       "      <td>221.30</td>\n",
       "      <td>49</td>\n",
       "      <td>{'name': 'Emilia Clarke', 'imdbUrl': 'http://w...</td>\n",
       "    </tr>\n",
       "    <tr>\n",
       "      <th>3</th>\n",
       "      <td>Cersei Lannister</td>\n",
       "      <td>http://www.imdb.com/character/ch0159526/</td>\n",
       "      <td>201.45</td>\n",
       "      <td>52</td>\n",
       "      <td>{'name': 'Lena Headey', 'imdbUrl': 'http://www...</td>\n",
       "    </tr>\n",
       "    <tr>\n",
       "      <th>4</th>\n",
       "      <td>Sansa Stark</td>\n",
       "      <td>http://www.imdb.com/character/ch0158137/</td>\n",
       "      <td>199.30</td>\n",
       "      <td>47</td>\n",
       "      <td>{'name': 'Sophie Turner', 'imdbUrl': 'http://w...</td>\n",
       "    </tr>\n",
       "  </tbody>\n",
       "</table>\n",
       "</div>"
      ],
      "text/plain": [
       "                 name                                   imdbUrl  screentime  \\\n",
       "0    Tyrion Lannister  http://www.imdb.com/character/ch0146096/      293.30   \n",
       "1            Jon Snow  http://www.imdb.com/character/ch0155777/      268.15   \n",
       "2  Daenerys Targaryen  http://www.imdb.com/character/ch0158597/      221.30   \n",
       "3    Cersei Lannister  http://www.imdb.com/character/ch0159526/      201.45   \n",
       "4         Sansa Stark  http://www.imdb.com/character/ch0158137/      199.30   \n",
       "\n",
       "  episodes                                        portrayedBy  \n",
       "0       54  {'name': 'Peter Dinklage', 'imdbUrl': 'http://...  \n",
       "1       49  {'name': 'Kit Harington', 'imdbUrl': 'http://w...  \n",
       "2       49  {'name': 'Emilia Clarke', 'imdbUrl': 'http://w...  \n",
       "3       52  {'name': 'Lena Headey', 'imdbUrl': 'http://www...  \n",
       "4       47  {'name': 'Sophie Turner', 'imdbUrl': 'http://w...  "
      ]
     },
     "execution_count": 4,
     "metadata": {},
     "output_type": "execute_result"
    }
   ],
   "source": [
    "basic_info(df_sct)"
   ]
  },
  {
   "cell_type": "code",
   "execution_count": 5,
   "metadata": {},
   "outputs": [
    {
     "data": {
      "text/plain": [
       "{'name': 'Peter Dinklage', 'imdbUrl': 'http://www.imdb.com/name/nm0227759/'}"
      ]
     },
     "execution_count": 5,
     "metadata": {},
     "output_type": "execute_result"
    }
   ],
   "source": [
    "# Checking to see if we have gender as part of this dataset and what else we have in the portrayedBy dict\n",
    "df_sct['portrayedBy'][0]"
   ]
  },
  {
   "cell_type": "code",
   "execution_count": 6,
   "metadata": {},
   "outputs": [
    {
     "name": "stdout",
     "output_type": "stream",
     "text": [
      "Column list: Index(['S.No', 'actual', 'pred', 'alive', 'plod', 'name', 'title', 'male',\n",
      "       'culture', 'dateOfBirth', 'DateoFdeath', 'mother', 'father', 'heir',\n",
      "       'house', 'spouse', 'book1', 'book2', 'book3', 'book4', 'book5',\n",
      "       'isAliveMother', 'isAliveFather', 'isAliveHeir', 'isAliveSpouse',\n",
      "       'isMarried', 'isNoble', 'age', 'numDeadRelations', 'boolDeadRelations',\n",
      "       'isPopular', 'popularity', 'isAlive'],\n",
      "      dtype='object')\n",
      "Shape: (1946, 33)\n"
     ]
    },
    {
     "data": {
      "text/html": [
       "<div>\n",
       "<style scoped>\n",
       "    .dataframe tbody tr th:only-of-type {\n",
       "        vertical-align: middle;\n",
       "    }\n",
       "\n",
       "    .dataframe tbody tr th {\n",
       "        vertical-align: top;\n",
       "    }\n",
       "\n",
       "    .dataframe thead th {\n",
       "        text-align: right;\n",
       "    }\n",
       "</style>\n",
       "<table border=\"1\" class=\"dataframe\">\n",
       "  <thead>\n",
       "    <tr style=\"text-align: right;\">\n",
       "      <th></th>\n",
       "      <th>S.No</th>\n",
       "      <th>actual</th>\n",
       "      <th>pred</th>\n",
       "      <th>alive</th>\n",
       "      <th>plod</th>\n",
       "      <th>name</th>\n",
       "      <th>title</th>\n",
       "      <th>male</th>\n",
       "      <th>culture</th>\n",
       "      <th>dateOfBirth</th>\n",
       "      <th>...</th>\n",
       "      <th>isAliveHeir</th>\n",
       "      <th>isAliveSpouse</th>\n",
       "      <th>isMarried</th>\n",
       "      <th>isNoble</th>\n",
       "      <th>age</th>\n",
       "      <th>numDeadRelations</th>\n",
       "      <th>boolDeadRelations</th>\n",
       "      <th>isPopular</th>\n",
       "      <th>popularity</th>\n",
       "      <th>isAlive</th>\n",
       "    </tr>\n",
       "  </thead>\n",
       "  <tbody>\n",
       "    <tr>\n",
       "      <th>0</th>\n",
       "      <td>1</td>\n",
       "      <td>0</td>\n",
       "      <td>0</td>\n",
       "      <td>0.054</td>\n",
       "      <td>0.946</td>\n",
       "      <td>Viserys II Targaryen</td>\n",
       "      <td>NaN</td>\n",
       "      <td>1</td>\n",
       "      <td>NaN</td>\n",
       "      <td>NaN</td>\n",
       "      <td>...</td>\n",
       "      <td>0.0</td>\n",
       "      <td>NaN</td>\n",
       "      <td>0</td>\n",
       "      <td>0</td>\n",
       "      <td>NaN</td>\n",
       "      <td>11</td>\n",
       "      <td>1</td>\n",
       "      <td>1</td>\n",
       "      <td>0.605351</td>\n",
       "      <td>0</td>\n",
       "    </tr>\n",
       "    <tr>\n",
       "      <th>1</th>\n",
       "      <td>2</td>\n",
       "      <td>1</td>\n",
       "      <td>0</td>\n",
       "      <td>0.387</td>\n",
       "      <td>0.613</td>\n",
       "      <td>Walder Frey</td>\n",
       "      <td>Lord of the Crossing</td>\n",
       "      <td>1</td>\n",
       "      <td>Rivermen</td>\n",
       "      <td>208.0</td>\n",
       "      <td>...</td>\n",
       "      <td>NaN</td>\n",
       "      <td>1.0</td>\n",
       "      <td>1</td>\n",
       "      <td>1</td>\n",
       "      <td>97.0</td>\n",
       "      <td>1</td>\n",
       "      <td>1</td>\n",
       "      <td>1</td>\n",
       "      <td>0.896321</td>\n",
       "      <td>1</td>\n",
       "    </tr>\n",
       "    <tr>\n",
       "      <th>2</th>\n",
       "      <td>3</td>\n",
       "      <td>1</td>\n",
       "      <td>0</td>\n",
       "      <td>0.493</td>\n",
       "      <td>0.507</td>\n",
       "      <td>Addison Hill</td>\n",
       "      <td>Ser</td>\n",
       "      <td>1</td>\n",
       "      <td>NaN</td>\n",
       "      <td>NaN</td>\n",
       "      <td>...</td>\n",
       "      <td>NaN</td>\n",
       "      <td>NaN</td>\n",
       "      <td>0</td>\n",
       "      <td>1</td>\n",
       "      <td>NaN</td>\n",
       "      <td>0</td>\n",
       "      <td>0</td>\n",
       "      <td>0</td>\n",
       "      <td>0.267559</td>\n",
       "      <td>1</td>\n",
       "    </tr>\n",
       "    <tr>\n",
       "      <th>3</th>\n",
       "      <td>4</td>\n",
       "      <td>0</td>\n",
       "      <td>0</td>\n",
       "      <td>0.076</td>\n",
       "      <td>0.924</td>\n",
       "      <td>Aemma Arryn</td>\n",
       "      <td>Queen</td>\n",
       "      <td>0</td>\n",
       "      <td>NaN</td>\n",
       "      <td>82.0</td>\n",
       "      <td>...</td>\n",
       "      <td>NaN</td>\n",
       "      <td>0.0</td>\n",
       "      <td>1</td>\n",
       "      <td>1</td>\n",
       "      <td>23.0</td>\n",
       "      <td>0</td>\n",
       "      <td>0</td>\n",
       "      <td>0</td>\n",
       "      <td>0.183946</td>\n",
       "      <td>0</td>\n",
       "    </tr>\n",
       "    <tr>\n",
       "      <th>4</th>\n",
       "      <td>5</td>\n",
       "      <td>1</td>\n",
       "      <td>1</td>\n",
       "      <td>0.617</td>\n",
       "      <td>0.383</td>\n",
       "      <td>Sylva Santagar</td>\n",
       "      <td>Greenstone</td>\n",
       "      <td>0</td>\n",
       "      <td>Dornish</td>\n",
       "      <td>276.0</td>\n",
       "      <td>...</td>\n",
       "      <td>NaN</td>\n",
       "      <td>1.0</td>\n",
       "      <td>1</td>\n",
       "      <td>1</td>\n",
       "      <td>29.0</td>\n",
       "      <td>0</td>\n",
       "      <td>0</td>\n",
       "      <td>0</td>\n",
       "      <td>0.043478</td>\n",
       "      <td>1</td>\n",
       "    </tr>\n",
       "  </tbody>\n",
       "</table>\n",
       "<p>5 rows × 33 columns</p>\n",
       "</div>"
      ],
      "text/plain": [
       "   S.No  actual  pred  alive   plod                  name  \\\n",
       "0     1       0     0  0.054  0.946  Viserys II Targaryen   \n",
       "1     2       1     0  0.387  0.613           Walder Frey   \n",
       "2     3       1     0  0.493  0.507          Addison Hill   \n",
       "3     4       0     0  0.076  0.924           Aemma Arryn   \n",
       "4     5       1     1  0.617  0.383        Sylva Santagar   \n",
       "\n",
       "                  title  male   culture  dateOfBirth  ...  isAliveHeir  \\\n",
       "0                   NaN     1       NaN          NaN  ...          0.0   \n",
       "1  Lord of the Crossing     1  Rivermen        208.0  ...          NaN   \n",
       "2                   Ser     1       NaN          NaN  ...          NaN   \n",
       "3                 Queen     0       NaN         82.0  ...          NaN   \n",
       "4            Greenstone     0   Dornish        276.0  ...          NaN   \n",
       "\n",
       "  isAliveSpouse isMarried isNoble   age numDeadRelations  boolDeadRelations  \\\n",
       "0           NaN         0       0   NaN               11                  1   \n",
       "1           1.0         1       1  97.0                1                  1   \n",
       "2           NaN         0       1   NaN                0                  0   \n",
       "3           0.0         1       1  23.0                0                  0   \n",
       "4           1.0         1       1  29.0                0                  0   \n",
       "\n",
       "   isPopular  popularity  isAlive  \n",
       "0          1    0.605351        0  \n",
       "1          1    0.896321        1  \n",
       "2          0    0.267559        1  \n",
       "3          0    0.183946        0  \n",
       "4          0    0.043478        1  \n",
       "\n",
       "[5 rows x 33 columns]"
      ]
     },
     "execution_count": 6,
     "metadata": {},
     "output_type": "execute_result"
    }
   ],
   "source": [
    "basic_info(df_deaths)"
   ]
  },
  {
   "cell_type": "markdown",
   "metadata": {},
   "source": [
    "### Combining datasets\n",
    "The screentime dataset doesn't have much information by itself. Before we do any further exploration, we try to combine the screentime dataset with the deaths dataset based on the name column, after converting all names to lower case."
   ]
  },
  {
   "cell_type": "code",
   "execution_count": 7,
   "metadata": {},
   "outputs": [
    {
     "name": "stdout",
     "output_type": "stream",
     "text": [
      "Number of valid  screentimes in screentime dataset\n",
      "\n",
      "True    191\n",
      "Name: screentime, dtype: int64\n",
      "\n",
      "Number of valid screentimes in combined dataset\n",
      "\n",
      "False    1820\n",
      "True      126\n",
      "Name: screentime, dtype: int64\n"
     ]
    }
   ],
   "source": [
    "df_deaths['name'] = df_deaths['name'].str.lower()\n",
    "df_sct['name'] = df_sct['name'].str.lower()\n",
    "\n",
    "df_combined = pd.merge(df_deaths, df_sct, on='name', how='left')\n",
    "\n",
    "print(\"Number of valid  screentimes in screentime dataset\", df_sct['screentime'].notna().value_counts(), \n",
    "      \"Number of valid screentimes in combined dataset\", df_combined['screentime'].notna().value_counts(), \n",
    "      sep = '\\n\\n')"
   ]
  },
  {
   "cell_type": "markdown",
   "metadata": {},
   "source": [
    "We are missing 191 - 126 = 65 names which are in the screentime dataset but have not been mapped to any name in the deaths dataset. We try to take a look at these names to see possibly why they are not mapped and try to map a bit more of them before moving on"
   ]
  },
  {
   "cell_type": "code",
   "execution_count": 8,
   "metadata": {},
   "outputs": [
    {
     "name": "stdout",
     "output_type": "stream",
     "text": [
      "[\"petyr 'littlefinger' baelish\", \"eddard 'ned' stark\", 'brienne of tarth', 'lord varys', \"sandor 'the hound' clegane\", 'ramsay bolton', 'tormund giantsbane', 'olenna tyrell', 'grand maester pycelle', 'talisa maegyr', 'robert baratheon', 'yara greyjoy', 'khal drogo', 'maester luwin', 'ros']\n"
     ]
    }
   ],
   "source": [
    "mapped_names = df_combined[df_combined.screentime.notna()].name\n",
    "unmapped_names = list(df_sct.query(\"name not in @mapped_names\").name)\n",
    "print(unmapped_names[:15])"
   ]
  },
  {
   "cell_type": "code",
   "execution_count": 9,
   "metadata": {},
   "outputs": [
    {
     "name": "stdout",
     "output_type": "stream",
     "text": [
      "['brienne of tarth', 'talisa maegyr', 'robert baratheon', 'yara greyjoy', 'jaqen hghar', 'ros', 'aemon', 'thoros of myr', 'locke', 'myranda'] \n",
      "\n",
      "Proportion of names mapped = 0.76\n"
     ]
    }
   ],
   "source": [
    "title_list = ['lord', 'maester', 'grand maester', 'khal', 'ser', 'septa', 'black']\n",
    "\n",
    "name_dict = {'ramsay bolton': 'ramsay snow',\n",
    "             'tormund giantsbane': 'tormund',\n",
    "             'olenna tyrell': 'olenna redwyne',\n",
    "             'smalljon umber': 'jon umber (smalljon)',\n",
    "             'greatjon umber': 'jon umber (greatjon)',\n",
    "             'selyse baratheon': 'selyse florent'\n",
    "             }\n",
    "\n",
    "def clean_name(name):\n",
    "    if('\\'' in name):\n",
    "        nick = name.split('\\'')\n",
    "        cleaned_name = nick[0].rstrip(' ') + nick[-1]\n",
    "        return(cleaned_name.strip())\n",
    "    for title in title_list:\n",
    "        if name.startswith(title):\n",
    "            return(name.lstrip(title).strip())\n",
    "    if(name in name_dict.keys()):\n",
    "        return(name_dict[name])\n",
    "    return(name)\n",
    "    \n",
    "df_sct['name'] = df_sct['name'].apply(clean_name)\n",
    "df_combined = pd.merge(df_deaths, df_sct, on='name', how='left')\n",
    "\n",
    "mapped_names = df_combined[df_combined.screentime.notna()].name\n",
    "unmapped_names = list(df_sct.query(\"name not in @mapped_names\").name)\n",
    "print(unmapped_names[:10], \"\\n\\nProportion of names mapped = {0:.2f}\".format(1-len(unmapped_names)/len(df_sct.name)))"
   ]
  },
  {
   "cell_type": "markdown",
   "metadata": {},
   "source": [
    "Having managed to map more than 3/4 th the names, we move on to exploring thie combined dataset"
   ]
  },
  {
   "cell_type": "code",
   "execution_count": 10,
   "metadata": {},
   "outputs": [],
   "source": [
    "df_combined.drop(columns=['imdbUrl', 'portrayedBy'], inplace=True)"
   ]
  },
  {
   "cell_type": "markdown",
   "metadata": {},
   "source": [
    "## Is the data suitable for Survival analysis?\n",
    "While reading about what methods could be best for a problem of this nature, I learnt about survival analysis, and it fits perfectly. I was thinking that it is somehow not entirely reasonable to consider this a regular binary classification problem because the data for the living characters cannot be considered 'complete' and it seems strange to train on alive, dead as just 1, 0 as many of the alive characters might be very close or very far from their deaths and we have no knowledge of this. I had trouble formalizing this concept but I found a formalization in the language of Survival analysis, and it is right-censoring of the data.\n",
    "\n",
    "More info on survival analysis [here](https://www.cscu.cornell.edu/news/statnews/stnews78.pdf)\n",
    "\n",
    "**What do we need in the data to be able to use survival analysis?**\n",
    "\n",
    "*A timeline*: The process in our case is being alive. So the start date is the birth year, and the event of interest is death. The time passed until the start of the process is then clearly the age. We must check if we have the age for most characters which are alive, and at what age characters died.\n",
    "\n",
    "*Event times*: We would need to have an age of death for dead characters. We need to check how many of them we have this data for.\n",
    "\n",
    "*Current time*: We need to know where we are in the timeline, i.e. at what time in the game of thrones world this data si collected and if it is well defined and consistent for different characters."
   ]
  },
  {
   "cell_type": "code",
   "execution_count": 11,
   "metadata": {},
   "outputs": [
    {
     "name": "stdout",
     "output_type": "stream",
     "text": [
      "There are 495 dead and 1451 living characters\n",
      "25.44% of the data is of dead characters\n",
      "32.73% of the dead characters have known age of death\n",
      "18.68% of the living characters have known age\n"
     ]
    }
   ],
   "source": [
    "data = df_combined\n",
    "num_dead = len(data[data.isAlive == 0].index)\n",
    "num_alive = len(data[data.isAlive == 1].index)\n",
    "print(\"There are {} dead and {} living characters\".format(num_dead, num_alive))\n",
    "\n",
    "dead_proportion = num_dead/(num_dead + num_alive)\n",
    "print(\"{0:.2f}% of the data is of dead characters\".format(100*dead_proportion))\n",
    "\n",
    "dead_with_age = len(data[(data.actual == 0) & (~data.age.isna())].index)/num_dead\n",
    "print(\"{0:.2f}% of the dead characters have known age of death\".format(100*dead_with_age))\n",
    "\n",
    "alive_with_age = len(data[(data.actual == 1) & (~data.age.isna())].index)/num_alive\n",
    "print(\"{0:.2f}% of the living characters have known age\".format(100*alive_with_age))"
   ]
  },
  {
   "cell_type": "code",
   "execution_count": 12,
   "metadata": {},
   "outputs": [
    {
     "name": "stdout",
     "output_type": "stream",
     "text": [
      "\u001b[30;1m Stats for popular characters \u001b[0m\n",
      "There are 60 dead and 55 living characters\n",
      "52.17% of the data is of dead characters\n",
      "46.67% of the dead characters have known age of death\n",
      "69.09% of the living characters have known age\n"
     ]
    }
   ],
   "source": [
    "print(\"\\u001b[30;1m Stats for popular characters \\u001b[0m\")\n",
    "data_pop = data[data.isPopular == 1]\n",
    "num_dead = len(data_pop[data_pop.isAlive == 0].index)\n",
    "num_alive = len(data_pop[data_pop.isAlive == 1].index)\n",
    "print(\"There are {} dead and {} living characters\".format(num_dead, num_alive))\n",
    "\n",
    "dead_proportion = num_dead/(num_dead + num_alive)\n",
    "print(\"{0:.2f}% of the data is of dead characters\".format(100*dead_proportion))\n",
    "\n",
    "dead_with_age = len(data_pop[(data_pop.actual == 0) & (~data_pop.age.isna())].index)/num_dead\n",
    "print(\"{0:.2f}% of the dead characters have known age of death\".format(100*dead_with_age))\n",
    "\n",
    "alive_with_age = len(data_pop[(data_pop.actual == 1) & (~data_pop.age.isna())].index)/num_alive\n",
    "print(\"{0:.2f}% of the living characters have known age\".format(100*alive_with_age))"
   ]
  },
  {
   "cell_type": "code",
   "execution_count": 13,
   "metadata": {},
   "outputs": [
    {
     "name": "stdout",
     "output_type": "stream",
     "text": [
      "{305.0}\n"
     ]
    }
   ],
   "source": [
    "# Getting the 'current year'\n",
    "alive_with_age = data[(~data.age.isna()) & (data.isAlive == True) & (~data.dateOfBirth.isna())]\n",
    "print(set([age+DOB for age, DOB in zip(alive_with_age['age'], alive_with_age['dateOfBirth'])]))"
   ]
  },
  {
   "cell_type": "markdown",
   "metadata": {},
   "source": [
    "So we see that even thought a large proportion of the dataset doesn't have age, we have it for a majority of the popular characters. Since we would mostly be interested in predicting deaths for popular characters, we go ahead with survival analysis. And also because I have not implemented survival analysis before and it would be an interesting exercise to do so.\n",
    "\n",
    "Since the 'current year' is well defined, we have a proper reference to continue"
   ]
  },
  {
   "cell_type": "markdown",
   "metadata": {},
   "source": [
    "# Data cleaning\n",
    "* Since we are doing survival analysis, only look at rows which have a non null age\n",
    "* Look at columns with multiple similar strings for what should be the same value. This turns out to be a problem only in the 'culture' column\n",
    "* Remove columns we do not need to train\n",
    "* OneHotEncode the data\n",
    "* Fill nulls\n",
    "* Get the data to be trained on in the foramt required to use scikit-survival, described [here](https://nbviewer.jupyter.org/github/sebp/scikit-survival/blob/master/examples/00-introduction.ipynb)"
   ]
  },
  {
   "cell_type": "code",
   "execution_count": 14,
   "metadata": {},
   "outputs": [],
   "source": [
    "# From  Shail Daliwala's kernel on Kaggle\n",
    "cult = {\n",
    "    'Summer Islands': ['summer islands', 'summer islander', 'summer isles'],\n",
    "    'Ghiscari': ['ghiscari', 'ghiscaricari',  'ghis'],\n",
    "    'Asshai': [\"asshai'i\", 'asshai'],\n",
    "    'Lysene': ['lysene', 'lyseni'],\n",
    "    'Andal': ['andal', 'andals'],\n",
    "    'Braavosi': ['braavosi', 'braavos'],\n",
    "    'Dornish': ['dornishmen', 'dorne', 'dornish'],\n",
    "    'Myrish': ['myr', 'myrish', 'myrmen'],\n",
    "    'Westermen': ['westermen', 'westerman', 'westerlands'],\n",
    "    'Westerosi': ['westeros', 'westerosi'],\n",
    "    'Stormlander': ['stormlands', 'stormlander'],\n",
    "    'Norvoshi': ['norvos', 'norvoshi'],\n",
    "    'Northmen': ['the north', 'northmen'],\n",
    "    'Free Folk': ['wildling', 'first men', 'free folk'],\n",
    "    'Qartheen': ['qartheen', 'qarth'],\n",
    "    'Reach': ['the reach', 'reach', 'reachmen'],\n",
    "}\n",
    "\n",
    "def get_cult(value):\n",
    "    value = value.lower()\n",
    "    v = [k for (k, v) in cult.items() if value in v]\n",
    "    return v[0] if len(v) > 0 else value.title()\n",
    "\n",
    "data.loc[:, \"culture\"] = [get_cult(x) for x in data.culture.fillna(\"\")]"
   ]
  },
  {
   "cell_type": "code",
   "execution_count": 15,
   "metadata": {
    "scrolled": true
   },
   "outputs": [],
   "source": [
    "data_surv = data[(~data.age.isna()) & (data.age > 0)]  # Only using data with valid age values\n",
    "\n",
    "map_bool = {1: False, 0: True}\n",
    "data_surv_Y = [(map_bool[actual], age) for actual, age in zip(data_surv['actual'], data_surv['age'])]\n",
    "data_surv_Y = [tuple(y) for y in data_surv_Y]\n",
    "dt = np.dtype('?, int')\n",
    "data_surv_Y = np.array(data_surv_Y, dt)\n",
    "\n",
    "cols_dlt = ['actual', 'alive', 'name', 'plod', 'pred', 'isAlive', 'DateoFdeath', 'age', 'spouse', 'dateOfBirth', 'episodes', 'S.No']\n",
    "data_surv_X = data_surv.drop(cols_dlt, 1)\n",
    "\n",
    "for column in data_surv_X.columns:\n",
    "    df = data_surv_X[~data_surv_X[column].isna()]\n",
    "    if(len(df[column].value_counts()) <= 1):\n",
    "        data_surv_X.drop([column], 1, inplace=True)            \n",
    "\n",
    "\n",
    "data_surv_X.loc[:, \"title\"] = pd.factorize(data_surv_X.title)[0]\n",
    "data_surv_X.loc[:, \"house\"] = pd.factorize(data_surv_X.house)[0]\n",
    "#data_surv_X.loc[:, \"culture\"] = pd.factorize(data_surv_X.spouse)[0]\n",
    "\n",
    "for col in ['culture']:\n",
    "    data_surv_X[col] = data_surv_X[col].astype('category') \n",
    "\n",
    "data_surv_X = OneHotEncoder().fit_transform(data_surv_X)  \n",
    "\n",
    "data_surv_X.fillna(value = -1, inplace = True)\n",
    "\n",
    "for column in data_surv_X:\n",
    "    if(data_surv_X[column].astype(bool).sum(axis=0) <= 5):\n",
    "        data_surv_X.drop([column], 1, inplace=True)\n",
    "\n",
    "\n",
    "#data_surv_X['popularity'] = np.random.normal(0, 0.01, data_surv_X['popularity'].shape) + data_surv_X['popularity']\n"
   ]
  },
  {
   "cell_type": "markdown",
   "metadata": {},
   "source": [
    "# Survival analysis\n",
    "We have the data_X and the data_Y as required in scikit-survival, we can now start to do. Since we have multiple variables, we use [Cox's proportional hazards model](https://en.wikipedia.org/wiki/Proportional_hazards_model) using the [scikit-survival](https://scikit-survival.readthedocs.io/en/latest/) library"
   ]
  },
  {
   "cell_type": "code",
   "execution_count": 30,
   "metadata": {},
   "outputs": [
    {
     "data": {
      "text/plain": [
       "0.6109553436373746"
      ]
     },
     "execution_count": 30,
     "metadata": {},
     "output_type": "execute_result"
    }
   ],
   "source": [
    "X_train, X_test, y_train, y_test = train_test_split(data_surv_X, data_surv_Y, test_size=0.2, random_state=62)\n",
    "\n",
    "estimator_cox = CoxPHSurvivalAnalysis()\n",
    "scores = cross_val_score(estimator_cox, X_train, y_train, cv=7)\n",
    "estimator_cox.fit(X_train, y_train)\n",
    "\n",
    "scores.mean()"
   ]
  },
  {
   "cell_type": "code",
   "execution_count": 17,
   "metadata": {},
   "outputs": [
    {
     "data": {
      "text/plain": [
       "title               -0.004990\n",
       "male                 0.742664\n",
       "culture=Dornish     -0.429079\n",
       "culture=Free Folk    1.582336\n",
       "culture=Ironborn    -0.745505\n",
       "culture=Northmen     0.201664\n",
       "culture=Rivermen    -1.419201\n",
       "culture=Valemen      0.806337\n",
       "culture=Valyrian     0.374110\n",
       "culture=Westermen   -0.558461\n",
       "culture=Westerosi   -1.601838\n",
       "house               -0.000436\n",
       "book1                0.250751\n",
       "book2                0.647305\n",
       "book3               -0.314770\n",
       "book4               -0.546778\n",
       "book5                0.193549\n",
       "isAliveSpouse        0.041710\n",
       "isMarried            0.030037\n",
       "isNoble             -0.472498\n",
       "numDeadRelations    -0.040349\n",
       "boolDeadRelations    0.918709\n",
       "isPopular            0.044120\n",
       "popularity           0.528594\n",
       "screentime          -0.007511\n",
       "dtype: float64"
      ]
     },
     "execution_count": 17,
     "metadata": {},
     "output_type": "execute_result"
    }
   ],
   "source": [
    "pd.Series(estimator_cox.coef_, index=X_train.columns)"
   ]
  },
  {
   "cell_type": "markdown",
   "metadata": {},
   "source": [
    "For each attribute, the number above represents the hazard ratio. If the hazard ratio for an attribute 'a' is r, this means that elements with 'a' = 1 are e^(r) times more at risk of death than the others. So we see that we could simply drop the attributes which have a very low hazard ratio, since they hardly affect they hardly affect the survival rate"
   ]
  },
  {
   "cell_type": "code",
   "execution_count": 21,
   "metadata": {},
   "outputs": [
    {
     "data": {
      "text/plain": [
       "0.6442766295707473"
      ]
     },
     "execution_count": 21,
     "metadata": {},
     "output_type": "execute_result"
    }
   ],
   "source": [
    "prediction = estimator_cox.predict(X_test)\n",
    "result = concordance_index_censored(y_test[\"f0\"], y_test[\"f1\"], prediction)\n",
    "result[0]"
   ]
  },
  {
   "cell_type": "code",
   "execution_count": 22,
   "metadata": {},
   "outputs": [],
   "source": [
    "result_s = pd.concat([data_surv[['name', 'age']], data_surv_X], axis=1)\n",
    "cols_to_keep = list(X_train.columns)\n",
    "surv_by_name = {}\n",
    "\n",
    "for name in result_s.name:\n",
    "    row_test = result_s[result_s.name == name]\n",
    "    row_test = row_test[cols_to_keep]\n",
    "    surv_by_name.update({name : estimator_cox.predict_survival_function(row_test)[0]})\n",
    "    \n",
    "result_s['survival_fn'] = result_s.apply(lambda row: surv_by_name[row['name']], axis = 1)"
   ]
  },
  {
   "cell_type": "markdown",
   "metadata": {},
   "source": [
    "### Taking a look at the results\n",
    "We start by taking a look at predictions for the most influential characters, and whether they are expected to survive 5 years from the 'current date'"
   ]
  },
  {
   "cell_type": "code",
   "execution_count": 23,
   "metadata": {},
   "outputs": [
    {
     "name": "stdout",
     "output_type": "stream",
     "text": [
      "tyrion lannister(age = 32.0): 0.926071813541296\n",
      "jon snow(age = 22.0): 0.930852994283686\n",
      "daenerys targaryen(age = 21.0): 0.9588237580313415\n",
      "cersei lannister(age = 39.0): 0.9513158406191133\n",
      "sansa stark(age = 19.0): 0.9403524703865126\n",
      "arya stark(age = 16.0): 0.9526817429723904\n",
      "jaime lannister(age = 39.0): 0.8446691705001992\n",
      "theon greyjoy(age = 27.0): 0.8141840421542392\n",
      "samwell tarly(age = 22.0): 0.9613128816725284\n",
      "jorah mormont(age = 51.0): 0.3769809117963862\n",
      "petyr baelish(age = 37.0): 0.3698188398239737\n",
      "eddard stark(age = 36.0): 0.563239330797172\n",
      "davos seaworth(age = 45.0): 0.8737685727454961\n",
      "bran stark(age = 15.0): 0.8462232348360746\n",
      "catelyn stark(age = 35.0): 0.975973799345682\n",
      "tywin lannister(age = 58.0): 0.34940621486785717\n",
      "margaery tyrell(age = 22.0): 0.828549038103818\n",
      "sandor clegane(age = 30.0): 0.4908496396270583\n",
      "ramsay snow(age = 23.0): 0.7710133775546625\n",
      "bronn(age = 41.0): 0.7637834158272783\n",
      "gilly(age = 23.0): 0.34649496845358324\n",
      "ygritte(age = 19.0): 0.499703375372628\n",
      "shae(age = 20.0): 0.9052509945408965\n",
      "missandei(age = 17.0): 0.9684345203794995\n",
      "podrick payne(age = 19.0): 0.8157773560475908\n",
      "olenna redwyne(age = 77.0): 0.7305769653571439\n",
      "barristan selmy(age = 69.0): 0.8345467028779692\n",
      "pycelle(age = 84.0): 0.40027588047181634\n",
      "loras tyrell(age = 23.0): 0.6274817236688247\n",
      "roose bolton(age = 45.0): 0.3128207188144745\n"
     ]
    }
   ],
   "source": [
    "for name in result_s.nlargest(30, 'screentime').name:\n",
    "    row = result_s[result_s.name == name]\n",
    "    i = row.index[0]\n",
    "    age = row.at[i, 'age']\n",
    "    fn = row.at[i, 'survival_fn']\n",
    "    print('{}(age = {}):'.format(name, age), fn(age+5) )"
   ]
  },
  {
   "cell_type": "markdown",
   "metadata": {},
   "source": [
    "**Conclusion for survival analysis**\n",
    "\n",
    "We can see that the results are not great at all. Age seems to be the most important characteristic considered in calculating the probability of death, which makes sense. However, perhaps we did not have enough data to consider how the other characteristics would affect the survival, and we did not spend too much effort on tuning the model either. We also must keep in mind that the data is based on the fantasy world created in the mind of a single person which entertains party though surprising turns of events, which might inherently make it hard to find a pattern, or a general rule of survival."
   ]
  },
  {
   "cell_type": "markdown",
   "metadata": {},
   "source": [
    "# Binary classification\n",
    "We also do a quick binary classification for the sake of completeness, since we ignored many characters in the survival analysis"
   ]
  },
  {
   "cell_type": "code",
   "execution_count": 24,
   "metadata": {},
   "outputs": [],
   "source": [
    "data_y = data.actual.values\n",
    "\n",
    "cols_dlt = ['actual', 'alive', 'name', 'plod', 'pred', 'isAlive', 'DateoFdeath', 'dateOfBirth', 'S.No']\n",
    "data_X = data.drop(cols_dlt, 1)\n",
    "\n",
    "for column in data_X.columns:\n",
    "    df = data_X[~data_X[column].isna()]\n",
    "    if(len(df[column].value_counts()) <= 1):\n",
    "        data_X.drop([column], 1, inplace=True)            \n",
    "\n",
    "cols_to_factor = [col for col in data_X.select_dtypes('object')] \n",
    "for col in cols_to_factor:\n",
    "    data_X.loc[:, col] = pd.factorize(data_X[col])[0]\n",
    "\n",
    "data_X.fillna(value = -1, inplace = True)"
   ]
  },
  {
   "cell_type": "code",
   "execution_count": 25,
   "metadata": {},
   "outputs": [],
   "source": [
    "X_train, X_test, y_train, y_test = train_test_split(data_X, data_y, test_size=0.3, random_state=75)"
   ]
  },
  {
   "cell_type": "code",
   "execution_count": 26,
   "metadata": {},
   "outputs": [
    {
     "name": "stdout",
     "output_type": "stream",
     "text": [
      "0.7885712821437626\n"
     ]
    }
   ],
   "source": [
    "estimator_lr = LogisticRegression(solver = 'lbfgs', max_iter = 10000)\n",
    "scores_lr = cross_val_score(estimator_lr, X_train, y_train, cv=7)\n",
    "estimator_lr.fit(X_train, y_train)\n",
    "print(scores_lr.mean())"
   ]
  },
  {
   "cell_type": "markdown",
   "metadata": {},
   "source": [
    "This is alreay a seemingly much better result than we had with survival analysis"
   ]
  },
  {
   "cell_type": "code",
   "execution_count": 27,
   "metadata": {},
   "outputs": [
    {
     "data": {
      "text/plain": [
       "0.7654109589041096"
      ]
     },
     "execution_count": 27,
     "metadata": {},
     "output_type": "execute_result"
    }
   ],
   "source": [
    "estimator_lr.score(X_test, y_test)"
   ]
  },
  {
   "cell_type": "code",
   "execution_count": 28,
   "metadata": {},
   "outputs": [
    {
     "name": "stdout",
     "output_type": "stream",
     "text": [
      "tyrion lannister(age = 32.0): 1\n",
      "jon snow(age = 22.0): 1\n",
      "daenerys targaryen(age = 21.0): 1\n",
      "cersei lannister(age = 39.0): 1\n",
      "sansa stark(age = 19.0): 1\n",
      "arya stark(age = 16.0): 1\n",
      "jaime lannister(age = 39.0): 1\n",
      "theon greyjoy(age = 27.0): 1\n",
      "samwell tarly(age = 22.0): 1\n",
      "jorah mormont(age = 51.0): 1\n",
      "petyr baelish(age = 37.0): 1\n",
      "eddard stark(age = 36.0): 1\n",
      "davos seaworth(age = 45.0): 1\n",
      "bran stark(age = 15.0): 1\n",
      "catelyn stark(age = 35.0): 1\n",
      "varys(age = -1.0): 1\n",
      "tywin lannister(age = 58.0): 0\n",
      "margaery tyrell(age = 22.0): 0\n",
      "robb stark(age = -1.0): 0\n",
      "stannis baratheon(age = -1.0): 0\n",
      "sandor clegane(age = 30.0): 1\n",
      "joffrey baratheon(age = -1.0): 0\n",
      "ramsay snow(age = 23.0): 1\n",
      "melisandre(age = -1.0): 1\n",
      "bronn(age = 41.0): 1\n",
      "gilly(age = 23.0): 1\n",
      "ygritte(age = 19.0): 1\n",
      "shae(age = 20.0): 1\n",
      "daario naharis(age = -1.0): 1\n",
      "missandei(age = 17.0): 1\n"
     ]
    }
   ],
   "source": [
    "result_lr = pd.concat([data[['name']], data_X], axis=1)\n",
    "result_lr['prediction_lr'] = estimator_lr.predict(data_X)\n",
    "\n",
    "for name in result_lr.nlargest(30, 'screentime').name:\n",
    "    row = result_lr[result_lr.name == name]\n",
    "    i = row.index[0]\n",
    "    age = row.at[i, 'age']\n",
    "    prediction = row.at[i, 'prediction_lr']\n",
    "    print('{}(age = {}):'.format(name, age), prediction )"
   ]
  },
  {
   "cell_type": "markdown",
   "metadata": {},
   "source": [
    "# Measures of fairness\n",
    "We try to design a couple of simple measures of fairness to see the bias of gender in making the predictions"
   ]
  },
  {
   "cell_type": "markdown",
   "metadata": {},
   "source": [
    "**1. Coeffecient for gender in the cox model**\n",
    "\n",
    "The easiest to see is the coeffecient corresponding to the colum 'male' in the trained survival analysis model we had. In case of gender not being important to the prediction, the coefficient should be zero, since the coefficient is the log of the hazard (how more likely you are likely to die if the value of this variable is true)"
   ]
  },
  {
   "cell_type": "code",
   "execution_count": 31,
   "metadata": {},
   "outputs": [
    {
     "name": "stdout",
     "output_type": "stream",
     "text": [
      "The hazard ratio of being male is 2.1015270929595693\n"
     ]
    }
   ],
   "source": [
    "coeff_gender = pd.Series(estimator_cox.coef_, index=X_train.columns)['male']\n",
    "\n",
    "e = math.e\n",
    "print('The hazard ratio of being male is {}'.format(e**(coeff_gender)))"
   ]
  },
  {
   "cell_type": "markdown",
   "metadata": {},
   "source": [
    "We can say that the farther this number if from 1, the more the bias is"
   ]
  },
  {
   "cell_type": "markdown",
   "metadata": {},
   "source": [
    "**2. Expect 'similar' predictions for 'similar' features apart from gender**\n",
    "\n",
    "Most measures of fairness will have a measure of similarity associated with them, to formalize who want things to be fair for, before we can formalize what we call fair. \n",
    "\n",
    "What we want in this problem is for the algorithm to predict death with similar probability for each of the groups 'male' and 'female', other things being equal. We can define 'other things being equal' in many ways. We could look at the titles of the characters, or the houses they belong to or what age group they are it, or  combination of these. We go with the following:\n",
    "\n",
    "**Definition:** Given a fixed value of the attribute isPopular, the average of the predictions from the logistic regression model trained above should be similar for the groups with attributes gender=male and gender=female."
   ]
  },
  {
   "cell_type": "code",
   "execution_count": 32,
   "metadata": {},
   "outputs": [],
   "source": [
    "result_fair = result_lr[['isPopular', 'male', 'prediction_lr']]"
   ]
  },
  {
   "cell_type": "code",
   "execution_count": 33,
   "metadata": {},
   "outputs": [
    {
     "data": {
      "text/html": [
       "<div>\n",
       "<style scoped>\n",
       "    .dataframe tbody tr th:only-of-type {\n",
       "        vertical-align: middle;\n",
       "    }\n",
       "\n",
       "    .dataframe tbody tr th {\n",
       "        vertical-align: top;\n",
       "    }\n",
       "\n",
       "    .dataframe thead th {\n",
       "        text-align: right;\n",
       "    }\n",
       "</style>\n",
       "<table border=\"1\" class=\"dataframe\">\n",
       "  <thead>\n",
       "    <tr style=\"text-align: right;\">\n",
       "      <th></th>\n",
       "      <th></th>\n",
       "      <th>prediction_lr</th>\n",
       "    </tr>\n",
       "    <tr>\n",
       "      <th>isPopular</th>\n",
       "      <th>male</th>\n",
       "      <th></th>\n",
       "    </tr>\n",
       "  </thead>\n",
       "  <tbody>\n",
       "    <tr>\n",
       "      <th rowspan=\"2\" valign=\"top\">0</th>\n",
       "      <th>0</th>\n",
       "      <td>0.960055</td>\n",
       "    </tr>\n",
       "    <tr>\n",
       "      <th>1</th>\n",
       "      <td>0.919457</td>\n",
       "    </tr>\n",
       "    <tr>\n",
       "      <th rowspan=\"2\" valign=\"top\">1</th>\n",
       "      <th>0</th>\n",
       "      <td>0.733333</td>\n",
       "    </tr>\n",
       "    <tr>\n",
       "      <th>1</th>\n",
       "      <td>0.430000</td>\n",
       "    </tr>\n",
       "  </tbody>\n",
       "</table>\n",
       "</div>"
      ],
      "text/plain": [
       "                prediction_lr\n",
       "isPopular male               \n",
       "0         0          0.960055\n",
       "          1          0.919457\n",
       "1         0          0.733333\n",
       "          1          0.430000"
      ]
     },
     "execution_count": 33,
     "metadata": {},
     "output_type": "execute_result"
    }
   ],
   "source": [
    "result_fair.groupby(['isPopular', 'male']).mean()"
   ]
  },
  {
   "cell_type": "markdown",
   "metadata": {},
   "source": [
    "We see that there is a significant difference in the avegrage expectation of death according the the regression model for popolar characters. However, without further analyis, it is hard to read much into this conclusion"
   ]
  }
 ],
 "metadata": {
  "kernelspec": {
   "display_name": "Python 3",
   "language": "python",
   "name": "python3"
  },
  "language_info": {
   "codemirror_mode": {
    "name": "ipython",
    "version": 3
   },
   "file_extension": ".py",
   "mimetype": "text/x-python",
   "name": "python",
   "nbconvert_exporter": "python",
   "pygments_lexer": "ipython3",
   "version": "3.6.8"
  }
 },
 "nbformat": 4,
 "nbformat_minor": 2
}
